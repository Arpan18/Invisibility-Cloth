{
 "cells": [
  {
   "cell_type": "code",
   "execution_count": 3,
   "metadata": {},
   "outputs": [],
   "source": [
    "## Importing necessary libraries\n",
    "import cv2\n",
    "import numpy as np\n",
    "cap=cv2.VideoCapture(0) ## use 0 for in-built webcam, use 1 for extrernal webcam\n",
    "\n",
    "for i in range(20):\n",
    "    __,background = cap.read() ##use 10-20 iterations to capture the backgroud properly\n",
    "    \n",
    "while(cap.isOpened()): ## runs till escape key is pressed\n",
    "    ret,img=cap.read()\n",
    "    \n",
    "    hsv=cv2.cvtColor(img,cv2.COLOR_BGR2HSV) ## convert to hsv ( only hue depends on the color)\n",
    "    \n",
    "    lower_hsv=np.array([0,0,122])\n",
    "    upper_hsv=np.array([102,24,255])   ##specific for the object used \n",
    "    \n",
    "    mask=cv2.inRange(hsv,lower_hsv,upper_hsv)  ##\n",
    "    \n",
    "    mask=cv2.morphologyEx(mask,cv2.MORPH_OPEN,np.ones((3,3),np.uint8),iterations=5) ## to remove noise and then smoothen it \n",
    "    mask=cv2.morphologyEx(mask,cv2.MORPH_DILATE,np.ones((3,3),np.uint8),iterations=5)\n",
    "    \n",
    "    mask_inv=cv2.bitwise_not(mask)   ## everything except the object\n",
    "    \n",
    "    res1=cv2.bitwise_and(background,background,mask=mask) ##original background only in the mask area\n",
    "    res2=cv2.bitwise_and(img,img,mask=mask_inv) ## img through webcam without the mask area\n",
    "    output=cv2.bitwise_or(res1,res2) \n",
    "    \n",
    "    cv2.imshow(\"Done\",output)\n",
    "    k=cv2.waitKey(1)\n",
    "    \n",
    "    if k==27:\n",
    "        break\n",
    "        \n",
    "        \n",
    "cap.release()\n",
    "cv2.destroyAllWindows()"
   ]
  }
 ],
 "metadata": {
  "kernelspec": {
   "display_name": "Python 3",
   "language": "python",
   "name": "python3"
  },
  "language_info": {
   "codemirror_mode": {
    "name": "ipython",
    "version": 3
   },
   "file_extension": ".py",
   "mimetype": "text/x-python",
   "name": "python",
   "nbconvert_exporter": "python",
   "pygments_lexer": "ipython3",
   "version": "3.7.4"
  }
 },
 "nbformat": 4,
 "nbformat_minor": 2
}
